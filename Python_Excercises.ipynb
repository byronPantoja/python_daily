{
 "metadata": {
  "language_info": {
   "codemirror_mode": {
    "name": "ipython",
    "version": 3
   },
   "file_extension": ".py",
   "mimetype": "text/x-python",
   "name": "python",
   "nbconvert_exporter": "python",
   "pygments_lexer": "ipython3",
   "version": "3.8.5-final"
  },
  "orig_nbformat": 2,
  "kernelspec": {
   "name": "python3",
   "display_name": "Python 3",
   "language": "python"
  }
 },
 "nbformat": 4,
 "nbformat_minor": 2,
 "cells": [
  {
   "source": [
    "# Collection of Python Excercises\n",
    "- no real order to this at the moment -- just want a collection of the excercises I've done for referrence"
   ],
   "cell_type": "markdown",
   "metadata": {}
  },
  {
   "source": [
    "## From The Modern Python 3 Bootcamp by Colt Steele\n",
    "- did 40% this course when I first started learning coding\n",
    "- stopped the course to pursue JS because my work offered the chance to study it at work\n",
    "- recording the excerises I've done plus going through any I haven't in order to CODE every day\n",
    "\n",
    "### Exerscise 1: Print Name"
   ],
   "cell_type": "markdown",
   "metadata": {}
  },
  {
   "source": [
    "print(\"Hello World! My name is Bee.\")"
   ],
   "cell_type": "markdown",
   "metadata": {}
  },
  {
   "source": [
    "### Exercise 3: Bank Roberry\n",
    "\n",
    "I've just robbed a bank with some of my friends. We got away $198673246768987.99, and now we have to split it up 5 ways. Using the **cash** variable I've already defined for you, print out the dollar amount each robber gets to keep. (divide **cash** by 5 and print the answer out).\n",
    "\n",
    "p.s. I haven't actually robbed a bank. Yet.\n",
    "\n"
   ],
   "cell_type": "markdown",
   "metadata": {}
  },
  {
   "cell_type": "code",
   "execution_count": 5,
   "metadata": {},
   "outputs": [
    {
     "output_type": "stream",
     "name": "stdout",
     "text": [
      "3973464935797.5977\n"
     ]
    }
   ],
   "source": [
    "cash = 19867324678987.99\n",
    "\n",
    "print(cash/5)"
   ]
  },
  {
   "source": [
    "### Exercise 4: Make Some Variables\n",
    "- define a Variable named **city** and set it to equal any **string**\n",
    "- define a variable named **price** and set it to equal any **float**\n",
    "- define a variable named **high_score** and set it to equal any **int**\n",
    "- define a variable named **is_having_fun** and set it to equal any **Boolean Value**\n"
   ],
   "cell_type": "markdown",
   "metadata": {}
  },
  {
   "cell_type": "code",
   "execution_count": 6,
   "metadata": {},
   "outputs": [],
   "source": [
    "city = \"Davao\"\n",
    "price = 9.99\n",
    "high_score = 99\n",
    "is_having_fun = True"
   ]
  },
  {
   "source": [
    "### Exercise 5: Escape Sequence Practice"
   ],
   "cell_type": "markdown",
   "metadata": {}
  },
  {
   "cell_type": "code",
   "execution_count": 8,
   "metadata": {},
   "outputs": [
    {
     "output_type": "stream",
     "name": "stdout",
     "text": [
      "This is a \n line\n/\\/\\/\\\nShe said, \" I don't think we should be doing this\".\n"
     ]
    }
   ],
   "source": [
    " # Set the message variable equal to any string containing a new-line escape sequence\n",
    "message = \"This is a \\n line\"\n",
    "print(message)\n",
    "\n",
    "\n",
    "# Add a string to the mountains variable that when printed results in: /\\/\\/\\\n",
    "# You will need to use an escape sequence more than once!\n",
    "mountains = \"/\\\\/\\\\/\\\\\"\n",
    "print(mountains)\n",
    "\n",
    "# Set the quotation variable to any string that contains an escaped double quotation mark\n",
    "\n",
    "quotation = \"She said, \\\" I don't think we should be doing this\\\".\"\n",
    "print(quotation)"
   ]
  },
  {
   "cell_type": "code",
   "execution_count": null,
   "metadata": {},
   "outputs": [],
   "source": []
  }
 ]
}