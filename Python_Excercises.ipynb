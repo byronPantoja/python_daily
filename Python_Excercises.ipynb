{
 "metadata": {
  "language_info": {
   "codemirror_mode": {
    "name": "ipython",
    "version": 3
   },
   "file_extension": ".py",
   "mimetype": "text/x-python",
   "name": "python",
   "nbconvert_exporter": "python",
   "pygments_lexer": "ipython3",
   "version": "3.8.5-final"
  },
  "orig_nbformat": 2,
  "kernelspec": {
   "name": "python3",
   "display_name": "Python 3",
   "language": "python"
  }
 },
 "nbformat": 4,
 "nbformat_minor": 2,
 "cells": [
  {
   "source": [
    "# Collection of Python Excercises\n",
    "- no real order to this at the moment -- just want a collection of the excercises I've done for referrence"
   ],
   "cell_type": "markdown",
   "metadata": {}
  },
  {
   "source": [
    "## From The Modern Python 3 Bootcamp by Colt Steele\n",
    "- did 40% this course when I first started learning coding\n",
    "- stopped the course to pursue JS because my work offered the chance to study it at work\n",
    "- recording the excerises I've done plus going through any I haven't in order to CODE every day\n",
    "\n",
    "### Exerscise 1: Print Name"
   ],
   "cell_type": "markdown",
   "metadata": {}
  },
  {
   "source": [
    "print(\"Hello World! My name is Bee.\")"
   ],
   "cell_type": "markdown",
   "metadata": {}
  },
  {
   "source": [
    "### Exercise 3: Bank Roberry\n",
    "\n",
    "I've just robbed a bank with some of my friends. We got away $198673246768987.99, and now we have to split it up 5 ways. Using the **cash** variable I've already defined for you, print out the dollar amount each robber gets to keep. (divide **cash** by 5 and print the answer out).\n",
    "\n",
    "p.s. I haven't actually robbed a bank. Yet.\n",
    "\n"
   ],
   "cell_type": "markdown",
   "metadata": {}
  },
  {
   "cell_type": "code",
   "execution_count": null,
   "metadata": {},
   "outputs": [],
   "source": [
    "cash = 19867324678987.99\n",
    "\n",
    "print(cash/5)"
   ]
  },
  {
   "source": [
    "### Exercise 4: Make Some Variables\n",
    "- define a Variable named **city** and set it to equal any **string**\n",
    "- define a variable named **price** and set it to equal any **float**\n",
    "- define a variable named **high_score** and set it to equal any **int**\n",
    "- define a variable named **is_having_fun** and set it to equal any **Boolean Value**\n"
   ],
   "cell_type": "markdown",
   "metadata": {}
  },
  {
   "cell_type": "code",
   "execution_count": 9,
   "metadata": {},
   "outputs": [
    {
     "output_type": "stream",
     "name": "stdout",
     "text": [
      "Davao 9.99 99 True\n"
     ]
    }
   ],
   "source": [
    "city = \"Davao\"\n",
    "price = 9.99\n",
    "high_score = 99\n",
    "is_having_fun = True\n",
    "\n",
    "print(city, price, high_score, is_having_fun)"
   ]
  },
  {
   "source": [
    "### Exercise 5: Escape Sequence Practice"
   ],
   "cell_type": "markdown",
   "metadata": {}
  },
  {
   "cell_type": "code",
   "execution_count": null,
   "metadata": {},
   "outputs": [],
   "source": [
    " # Set the message variable equal to any string containing a new-line escape sequence\n",
    "message = \"This is a \\n line\"\n",
    "print(message)\n",
    "\n",
    "\n",
    "# Add a string to the mountains variable that when printed results in: /\\/\\/\\\n",
    "# You will need to use an escape sequence more than once!\n",
    "mountains = \"/\\\\/\\\\/\\\\\"\n",
    "print(mountains)\n",
    "\n",
    "# Set the quotation variable to any string that contains an escaped double quotation mark\n",
    "\n",
    "quotation = \"She said, \\\" I don't think we should be doing this\\\".\"\n",
    "print(quotation)"
   ]
  },
  {
   "source": [
    "___\n",
    "## From Complete Python Developer in 2021: ZTM\n",
    "*I already put most of the excercises from here in my fuinctional programming notes, so I'm starting to record her from Section 11 onwards.*\n",
    "\n",
    "### Exercise: Guessing Game\n",
    "- Runs in terminal\n",
    "- Generate a number between 1~10\n",
    "- Input from user\n",
    "- Check that the input is a number from 1~10\n",
    "- Check if the number is the right guess. Otherwise\n",
    "- Ask again\n"
   ],
   "cell_type": "markdown",
   "metadata": {}
  },
  {
   "cell_type": "code",
   "execution_count": 12,
   "metadata": {},
   "outputs": [
    {
     "output_type": "stream",
     "name": "stdout",
     "text": [
      "The answer is 4\n",
      "you are a genius!\n"
     ]
    }
   ],
   "source": [
    "from random import randint\n",
    "import sys\n",
    "\n",
    "answer = randint(1,10)\n",
    "# answer = randint(int(sys.argv[1]), int(sys.argv[2])) \n",
    "# the code above this line would allow parameters of the game to be changed via the terminal\n",
    "\n",
    "while True:\n",
    "    print(f'The answer is {answer}') #me cheating\n",
    "    try:\n",
    "        # the guess needs to go inside of the try block or else it will become a forever loop\n",
    "        #guess = int(input(f'guess a number {sys.argv[1]}~{sys.argv[2]}:  '))\n",
    "        guess = int(input('Guess a number 1~10'))\n",
    "        if  0 < guess < 11:\n",
    "            if guess == answer:\n",
    "                print('you are a genius!')\n",
    "                break\n",
    "# ask again\n",
    "        else:\n",
    "            print('Please pick a number between 1~10.')\n",
    "    except ValueError:\n",
    "        print('please enter a number')\n",
    "        continue\n",
    "\n",
    "            \n",
    "\n"
   ]
  }
 ]
}