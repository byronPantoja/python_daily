{
 "metadata": {
  "language_info": {
   "codemirror_mode": {
    "name": "ipython",
    "version": 3
   },
   "file_extension": ".py",
   "mimetype": "text/x-python",
   "name": "python",
   "nbconvert_exporter": "python",
   "pygments_lexer": "ipython3",
   "version": 3
  },
  "orig_nbformat": 2
 },
 "nbformat": 4,
 "nbformat_minor": 2,
 "cells": [
  {
   "source": [
    "# Collection of Python Excercises\n",
    "- no real order to this at the moment -- just want a collection of the excercises I've done for referrence"
   ],
   "cell_type": "markdown",
   "metadata": {}
  },
  {
   "source": [
    "## From The Modern Python 3 Bootcamp by Colt Steele\n",
    "- did 40% this course when I first started learning coding\n",
    "- stopped the course to pursue JS because my work offered the chance to study it at work\n",
    "- recording the excerises I've done plus going through any I haven't in order to CODE every day\n",
    "\n",
    "### Excerscise 1: Print Name"
   ],
   "cell_type": "markdown",
   "metadata": {}
  },
  {
   "source": [
    "print(\"Hello World! My name is Bee.\")"
   ],
   "cell_type": "markdown",
   "metadata": {}
  },
  {
   "source": [],
   "cell_type": "markdown",
   "metadata": {}
  }
 ]
}