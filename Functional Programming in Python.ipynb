{
 "cells": [
  {
   "cell_type": "markdown",
   "metadata": {},
   "source": [
    "# Functional Programming in Python\n",
    "\n",
    "**What is Functional Programming?**\n",
    "\n",
    "*Functional programming (often abbreviated FP) is the process of building software by composing pure functions, avoiding shared state, mutable data, and side-effects. Functional programming is declarative rather than imperative, and application state flows through pure functions*\n",
    "\n",
    "**Pure Functions**\n",
    "\n",
    "*A pure function is a function where the return value is only determined by its input values, without observable side effects. This is how functions in math work: Math. cos(x) will, for the same value of x , always return the same result.*\n",
    "\n",
    "**EXAMPLE:**\n",
    "\n"
   ]
  },
  {
   "cell_type": "code",
   "execution_count": 2,
   "metadata": {},
   "outputs": [
    {
     "data": {
      "text/plain": [
       "[2, 4, 6]"
      ]
     },
     "execution_count": 2,
     "metadata": {},
     "output_type": "execute_result"
    }
   ],
   "source": [
    "def multiply_by2(li):\n",
    "    new_list = []\n",
    "    for item in li:\n",
    "        new_list.append(item*2)\n",
    "    return new_list\n",
    "\n",
    "multiply_by2([1,2,3])"
   ]
  },
  {
   "cell_type": "markdown",
   "metadata": {},
   "source": [
    "Nothing in the function **above** interacts with anything from the outside. \n",
    "\n",
    "In the example below, the **new_list** variable is outside of the scope of the function. If it were changed, it would affect the result of our function.\n",
    "\n"
   ]
  },
  {
   "cell_type": "code",
   "execution_count": 10,
   "metadata": {},
   "outputs": [
    {
     "ename": "AttributeError",
     "evalue": "'str' object has no attribute 'append'",
     "output_type": "error",
     "traceback": [
      "\u001b[0;31m---------------------------------------------------------------------------\u001b[0m",
      "\u001b[0;31mAttributeError\u001b[0m                            Traceback (most recent call last)",
      "\u001b[0;32m<ipython-input-10-4f6561ab1d34>\u001b[0m in \u001b[0;36m<module>\u001b[0;34m\u001b[0m\n\u001b[1;32m      5\u001b[0m     \u001b[0;32mreturn\u001b[0m \u001b[0mnew_list\u001b[0m\u001b[0;34m\u001b[0m\u001b[0;34m\u001b[0m\u001b[0m\n\u001b[1;32m      6\u001b[0m \u001b[0;34m\u001b[0m\u001b[0m\n\u001b[0;32m----> 7\u001b[0;31m \u001b[0mmultiply_by2\u001b[0m\u001b[0;34m(\u001b[0m\u001b[0;34m[\u001b[0m\u001b[0;36m1\u001b[0m\u001b[0;34m,\u001b[0m\u001b[0;36m2\u001b[0m\u001b[0;34m,\u001b[0m\u001b[0;36m3\u001b[0m\u001b[0;34m]\u001b[0m\u001b[0;34m)\u001b[0m\u001b[0;34m\u001b[0m\u001b[0;34m\u001b[0m\u001b[0m\n\u001b[0m",
      "\u001b[0;32m<ipython-input-10-4f6561ab1d34>\u001b[0m in \u001b[0;36mmultiply_by2\u001b[0;34m(li)\u001b[0m\n\u001b[1;32m      2\u001b[0m \u001b[0;32mdef\u001b[0m \u001b[0mmultiply_by2\u001b[0m\u001b[0;34m(\u001b[0m\u001b[0mli\u001b[0m\u001b[0;34m)\u001b[0m\u001b[0;34m:\u001b[0m\u001b[0;34m\u001b[0m\u001b[0;34m\u001b[0m\u001b[0m\n\u001b[1;32m      3\u001b[0m     \u001b[0;32mfor\u001b[0m \u001b[0mitem\u001b[0m \u001b[0;32min\u001b[0m \u001b[0mli\u001b[0m\u001b[0;34m:\u001b[0m\u001b[0;34m\u001b[0m\u001b[0;34m\u001b[0m\u001b[0m\n\u001b[0;32m----> 4\u001b[0;31m         \u001b[0mnew_list\u001b[0m\u001b[0;34m.\u001b[0m\u001b[0mappend\u001b[0m\u001b[0;34m(\u001b[0m\u001b[0mitem\u001b[0m\u001b[0;34m*\u001b[0m\u001b[0;36m2\u001b[0m\u001b[0;34m)\u001b[0m\u001b[0;34m\u001b[0m\u001b[0;34m\u001b[0m\u001b[0m\n\u001b[0m\u001b[1;32m      5\u001b[0m     \u001b[0;32mreturn\u001b[0m \u001b[0mnew_list\u001b[0m\u001b[0;34m\u001b[0m\u001b[0;34m\u001b[0m\u001b[0m\n\u001b[1;32m      6\u001b[0m \u001b[0;34m\u001b[0m\u001b[0m\n",
      "\u001b[0;31mAttributeError\u001b[0m: 'str' object has no attribute 'append'"
     ]
    }
   ],
   "source": [
    "new_list = \"To avoid this error, write a pure function.\"\n",
    "def multiply_by2(li):\n",
    "    for item in li:\n",
    "        new_list.append(item*2)\n",
    "    return new_list\n",
    "\n",
    "multiply_by2([1,2,3])"
   ]
  },
  {
   "cell_type": "markdown",
   "metadata": {},
   "source": [
    " In **functional programming** we avoid mixing *data* with *functions*.\n",
    " \n",
    " So if we had a *Wizard Class*, the data would be the information about the wizard. His name, rank, clan, etc. Then the functions that could be attributed to the *Wizard Class* would be things like their *attack*, their *magic*, etc."
   ]
  },
  {
   "cell_type": "markdown",
   "metadata": {},
   "source": [
    "# **map()**\n",
    "\n",
    "*The map() function executes a specified function for each item in an iterable. The item is sent to the function as a parameter.*\n",
    "\n",
    "**EXAMPLE**"
   ]
  },
  {
   "cell_type": "code",
   "execution_count": 14,
   "metadata": {},
   "outputs": [
    {
     "name": "stdout",
     "output_type": "stream",
     "text": [
      "[5, 6, 6]\n"
     ]
    }
   ],
   "source": [
    "def myfunc(n):\n",
    "  return len(n)\n",
    "\n",
    "x = map(myfunc, ('apple', 'banana', 'cherry'))\n",
    "\n",
    "\n",
    "print(list(x))"
   ]
  },
  {
   "cell_type": "markdown",
   "metadata": {},
   "source": [
    "By using map, allows us to create *pure functions* that doesn't modify the outside world. Meaning there are no side effects.\n",
    "\n",
    "**EXAMPLE**"
   ]
  },
  {
   "cell_type": "code",
   "execution_count": 17,
   "metadata": {},
   "outputs": [
    {
     "name": "stdout",
     "output_type": "stream",
     "text": [
      "[2, 4, 6]\n",
      "[1, 2, 3]\n"
     ]
    }
   ],
   "source": [
    "my_list = [1,2,3] #this list will not be changed\n",
    "\n",
    "def multiply_by2(item): #pure function\n",
    "    return item*2\n",
    "\n",
    "print(list(map(multiply_by2, my_list))) #using map() allows us to run the function without affecting the original list\n",
    "print(my_list)"
   ]
  },
  {
   "cell_type": "markdown",
   "metadata": {},
   "source": [
    "# filter()\n",
    "\n",
    "*The filter() function returns an iterator were the items are filtered through a function to test if the item is accepted or not.*"
   ]
  },
  {
   "cell_type": "code",
   "execution_count": 45,
   "metadata": {},
   "outputs": [
    {
     "name": "stdout",
     "output_type": "stream",
     "text": [
      "[1, 3]\n",
      "[1, 2, 3]\n"
     ]
    }
   ],
   "source": [
    "my_list = [1,2,3] #this list will not be changed\n",
    "\n",
    "def multiply_by2(item): #pure function\n",
    "    return item*2\n",
    "\n",
    "def only_odd(item): #this function tests for odd numbers#\n",
    "    return item % 2 != 0\n",
    "\n",
    "print(list(filter(only_odd, my_list))) #using map() allows us to run the function without affecting the original list\n",
    "print(my_list)"
   ]
  },
  {
   "cell_type": "markdown",
   "metadata": {},
   "source": [
    "# **zip()**\n",
    "\n",
    "*The zip() function returns a zip object, which is an iterator of tuples where the first item in each passed iterator is paired together, and then the second item in each passed iterator are paired together etc.\n",
    "*"
   ]
  },
  {
   "cell_type": "code",
   "execution_count": 33,
   "metadata": {},
   "outputs": [
    {
     "name": "stdout",
     "output_type": "stream",
     "text": [
      "[(1, -1), (2, -2), (3, -3)]\n",
      "[1, 2, 3] [-1, -2, -3]\n"
     ]
    }
   ],
   "source": [
    "my_list = [1,2,3]\n",
    "new_list = [-1,-2,-3]\n",
    "\n",
    "\n",
    "print(list(zip(my_list, new_list)))                                         \n",
    "print(my_list, new_list)"
   ]
  },
  {
   "cell_type": "markdown",
   "metadata": {},
   "source": [
    "# **reduce()**\n",
    "\n",
    "*The reduce() function accepts a function and a sequence and returns a single value calculated as follows:\n",
    "\n",
    "Initially, the function is called with the first two items from the sequence and the result is returned.\n",
    "The function is then called again with the result obtained in step 1 and the next value in the sequence. This process keeps repeating until there are items in the sequence.*"
   ]
  },
  {
   "cell_type": "code",
   "execution_count": 25,
   "metadata": {},
   "outputs": [
    {
     "name": "stdout",
     "output_type": "stream",
     "text": [
      "0 1\n",
      "1 2\n",
      "3 3\n",
      "6\n",
      "[1, 2, 3]\n"
     ]
    }
   ],
   "source": [
    "from functools import reduce #python3 requires us to import reduce\n",
    "\n",
    "my_list = [1,2,3] #this list will not be changed\n",
    "\n",
    "\n",
    "def multiply_by2(item): #pure function that multiplies item by 2\n",
    "    return item*2\n",
    "\n",
    "def only_odd(item): #tpure function that tests item for odd numbers\n",
    "    return item % 2 != 0\n",
    "\n",
    "def accumulator(acc, item):\n",
    "    print(acc, item) #printing to see each pass through and how it accumulates\n",
    "    return acc + item #running just this without print would return 6\n",
    "    \n",
    "\n",
    "print(reduce(accumulator, my_list, 0)) #using map() allows us to run the function without affecting the original list\n",
    "print(my_list)"
   ]
  },
  {
   "cell_type": "markdown",
   "metadata": {},
   "source": [
    "# Exercises: map, filter, zip, reduce"
   ]
  },
  {
   "cell_type": "code",
   "execution_count": 15,
   "metadata": {},
   "outputs": [
    {
     "name": "stdout",
     "output_type": "stream",
     "text": [
      "['SISI', 'BIBI', 'TITI', 'CARLA']\n",
      "[('a', 1), ('b', 2), ('d', 3), ('e', 4), ('z', 5)]\n",
      "[73, 65, 76, 100, 88]\n",
      "456\n"
     ]
    }
   ],
   "source": [
    "from functools import reduce\n",
    "\n",
    "#1 Capitalize all of the pet names and print the list\n",
    "my_pets = ['sisi', 'bibi', 'titi', 'carla']\n",
    "\n",
    "def caps_all(item):\n",
    "    return item.upper()\n",
    "\n",
    "print(list(map(caps_all,my_pets)))\n",
    "\n",
    "#2 Zip the 2 lists into a list of tuples, but sort the numbers from lowest to highest.\n",
    "my_strings = ['a', 'b', 'c', 'd', 'e']\n",
    "my_numbers = [5,4,3,2,1]\n",
    "\n",
    "def sort_zip(x,y):\n",
    "    x.sort()\n",
    "    y.sort()\n",
    "    return list(zip(x,y))\n",
    "\n",
    "print(sort_zip(my_strings,my_numbers))\n",
    "\n",
    "\n",
    "#3 Filter the scores that pass over 50%\n",
    "scores = [73, 20, 65, 19, 76, 100, 88]\n",
    "\n",
    "def filter_fifty(item):\n",
    "    return item > 50\n",
    "print(list(filter(filter_fifty, scores)))\n",
    "\n",
    "#4 Combine all of the numbers that are in a list on this file using reduce (my_numbers and scores). What is the total?\n",
    "def all_numbers(list1,list2):\n",
    "    return list1 + list2\n",
    "    \n",
    "def accumulator(acc, item):\n",
    "    return acc + item \n",
    "\n",
    "\n",
    "new_list = all_numbers(scores, my_numbers)\n",
    "\n",
    "print(reduce(accumulator, new_list, 0))"
   ]
  },
  {
   "cell_type": "markdown",
   "metadata": {},
   "source": [
    "# Solutions\n",
    "\n",
    "*My solutions above weren't as elegant. They worked but I used more code than needed."
   ]
  },
  {
   "cell_type": "code",
   "execution_count": 13,
   "metadata": {},
   "outputs": [
    {
     "name": "stdout",
     "output_type": "stream",
     "text": [
      "['SISI', 'BIBI', 'TITI', 'CARLA']\n",
      "[('a', 1), ('b', 2), ('c', 3), ('d', 4), ('e', 5)]\n",
      "[73, 65, 76, 100, 88]\n",
      "456\n"
     ]
    }
   ],
   "source": [
    "from functools import reduce\n",
    "\n",
    "#1 Capitalize all of the pet names and print the list\n",
    "my_pets = ['sisi', 'bibi', 'titi', 'carla']\n",
    "\n",
    "def capitalize(string):\n",
    "    return string.upper()\n",
    "\n",
    "print(list(map(capitalize, my_pets)))\n",
    "\n",
    "\n",
    "#2 Zip the 2 lists into a list of tuples, but sort the numbers from lowest to highest.\n",
    "my_strings = ['a', 'b', 'c', 'd', 'e']\n",
    "my_numbers = [5,4,3,2,1]\n",
    "\n",
    "print(list(zip(my_strings, sorted(my_numbers))))\n",
    "\n",
    "\n",
    "#3 Filter the scores that pass over 50%\n",
    "scores = [73, 20, 65, 19, 76, 100, 88]\n",
    "\n",
    "def is_smart_student(score):\n",
    "    return score > 50\n",
    "\n",
    "print(list(filter(is_smart_student, scores)))\n",
    "\n",
    "\n",
    "#4 Combine all of the numbers that are in a list on this file using reduce (my_numbers and scores). What is the total?\n",
    "def accumulator(acc, item):\n",
    "    return acc + item\n",
    "\n",
    "print(reduce(accumulator, (my_numbers + scores)))"
   ]
  },
  {
   "cell_type": "markdown",
   "metadata": {},
   "source": [
    "# Lambda Expressions\n",
    "*A lambda function is a small anonymous function.*\n",
    "\n",
    "*A lambda function can take any number of arguments, but can only have one expression.*\n"
   ]
  },
  {
   "cell_type": "code",
   "execution_count": 19,
   "metadata": {},
   "outputs": [
    {
     "name": "stdout",
     "output_type": "stream",
     "text": [
      "[2, 4, 6]\n",
      "6\n"
     ]
    }
   ],
   "source": [
    "my_list=[1,2,3]\n",
    "\n",
    "print(list(map(lambda item: item*2, my_list))) #you can use a lambda function for a 1 and done sort of use case\n",
    "\n",
    "print(reduce(lambda acc, item: acc+item, my_list)) # this works too, just need to become familiar with the syntax"
   ]
  },
  {
   "cell_type": "markdown",
   "metadata": {},
   "source": [
    "# List Comprehensions"
   ]
  },
  {
   "cell_type": "markdown",
   "metadata": {},
   "source": [
    "**list, set, dictionary**\n",
    "\n"
   ]
  },
  {
   "cell_type": "code",
   "execution_count": 25,
   "metadata": {},
   "outputs": [
    {
     "name": "stdout",
     "output_type": "stream",
     "text": [
      "['h', 'e', 'l', 'l', 'o']\n",
      "['h', 'e', 'l', 'l', 'o']\n",
      "[0, 1, 2, 3, 4, 5, 6, 7, 8, 9, 10, 11, 12, 13, 14, 15, 16, 17, 18, 19, 20, 21, 22, 23, 24, 25, 26, 27, 28, 29, 30, 31, 32, 33, 34, 35, 36, 37, 38, 39, 40, 41, 42, 43, 44, 45, 46, 47, 48, 49, 50, 51, 52, 53, 54, 55, 56, 57, 58, 59, 60, 61, 62, 63, 64, 65, 66, 67, 68, 69, 70, 71, 72, 73, 74, 75, 76, 77, 78, 79, 80, 81, 82, 83, 84, 85, 86, 87, 88, 89, 90, 91, 92, 93, 94, 95, 96, 97, 98, 99]\n",
      "[0, 2, 4, 6, 8, 10, 12, 14, 16, 18, 20, 22, 24, 26, 28, 30, 32, 34, 36, 38, 40, 42, 44, 46, 48, 50, 52, 54, 56, 58, 60, 62, 64, 66, 68, 70, 72, 74, 76, 78, 80, 82, 84, 86, 88, 90, 92, 94, 96, 98, 100, 102, 104, 106, 108, 110, 112, 114, 116, 118, 120, 122, 124, 126, 128, 130, 132, 134, 136, 138, 140, 142, 144, 146, 148, 150, 152, 154, 156, 158, 160, 162, 164, 166, 168, 170, 172, 174, 176, 178, 180, 182, 184, 186, 188, 190, 192, 194, 196, 198]\n",
      "[0, 4, 16, 36, 64, 100, 144, 196, 256, 324, 400, 484, 576, 676, 784, 900, 1024, 1156, 1296, 1444, 1600, 1764, 1936, 2116, 2304, 2500, 2704, 2916, 3136, 3364, 3600, 3844, 4096, 4356, 4624, 4900, 5184, 5476, 5776, 6084, 6400, 6724, 7056, 7396, 7744, 8100, 8464, 8836, 9216, 9604]\n"
     ]
    }
   ],
   "source": [
    "my_list =[]\n",
    "\n",
    "for char in 'hello':\n",
    "    my_list.append(char)\n",
    "\n",
    "print(my_list)\n",
    "\n",
    "# Or we can use a LIST COMPREHENSION\n",
    "\n",
    "my_list2 = [char for char in 'hello']\n",
    "print(my_list2)\n",
    "\n",
    "my_list3 =[num for num in range(0,100)]\n",
    "\n",
    "print(my_list3)\n",
    "\n",
    "my_list4 =[num*2 for num in range(0,100)]\n",
    "print(my_list4)\n",
    "\n",
    "my_list5 =[num**2 for num in range(0,100)\n",
    "          if num % 2 == 0]\n",
    "print(my_list5)"
   ]
  },
  {
   "cell_type": "markdown",
   "metadata": {},
   "source": [
    "# Decorators\n",
    "\n",
    "*Python has an interesting feature called decorators to add functionality to an existing code.*\n",
    "\n",
    "*This is also called metaprogramming because a part of the program tries to modify another part of the program at compile time.*\n",
    "\n",
    "**BEFORE DIVING IN LET'S LOOK AT THE EXAMPLES BELOW**"
   ]
  },
  {
   "cell_type": "code",
   "execution_count": 10,
   "metadata": {},
   "outputs": [
    {
     "name": "stdout",
     "output_type": "stream",
     "text": [
      "Hellloooooo\n",
      "None\n"
     ]
    },
    {
     "ename": "NameError",
     "evalue": "name 'hello' is not defined",
     "output_type": "error",
     "traceback": [
      "\u001b[0;31m---------------------------------------------------------------------------\u001b[0m",
      "\u001b[0;31mNameError\u001b[0m                                 Traceback (most recent call last)",
      "\u001b[0;32m<ipython-input-10-ed6d423930ad>\u001b[0m in \u001b[0;36m<module>\u001b[0;34m\u001b[0m\n\u001b[1;32m      7\u001b[0m \u001b[0;34m\u001b[0m\u001b[0m\n\u001b[1;32m      8\u001b[0m \u001b[0mprint\u001b[0m\u001b[0;34m(\u001b[0m\u001b[0mgreet\u001b[0m\u001b[0;34m(\u001b[0m\u001b[0;34m)\u001b[0m\u001b[0;34m)\u001b[0m \u001b[0;31m# hello() was deleted but the function ie. 'print()' exists in memory\u001b[0m\u001b[0;34m\u001b[0m\u001b[0;34m\u001b[0m\u001b[0m\n\u001b[0;32m----> 9\u001b[0;31m \u001b[0mhello\u001b[0m\u001b[0;34m(\u001b[0m\u001b[0;34m)\u001b[0m \u001b[0;31m# but calling 'hello()' will lead to an error because the word was deleted\u001b[0m\u001b[0;34m\u001b[0m\u001b[0;34m\u001b[0m\u001b[0m\n\u001b[0m",
      "\u001b[0;31mNameError\u001b[0m: name 'hello' is not defined"
     ]
    }
   ],
   "source": [
    "def hello():\n",
    "    print('Hellloooooo')\n",
    "    \n",
    "greet = hello\n",
    "del hello\n",
    "\n",
    "\n",
    "print(greet()) # hello() was deleted but the function ie. 'print()' exists in memory\n",
    "hello() # but calling 'hello()' will lead to an error because the word was deleted"
   ]
  },
  {
   "cell_type": "code",
   "execution_count": 12,
   "metadata": {},
   "outputs": [
    {
     "name": "stdout",
     "output_type": "stream",
     "text": [
      "Still here.\n",
      "None\n"
     ]
    },
    {
     "ename": "NameError",
     "evalue": "name 'hello' is not defined",
     "output_type": "error",
     "traceback": [
      "\u001b[0;31m---------------------------------------------------------------------------\u001b[0m",
      "\u001b[0;31mNameError\u001b[0m                                 Traceback (most recent call last)",
      "\u001b[0;32m<ipython-input-12-f42c9cbf911b>\u001b[0m in \u001b[0;36m<module>\u001b[0;34m\u001b[0m\n\u001b[1;32m      8\u001b[0m \u001b[0;34m\u001b[0m\u001b[0m\n\u001b[1;32m      9\u001b[0m \u001b[0mprint\u001b[0m\u001b[0;34m(\u001b[0m\u001b[0mgreet\u001b[0m\u001b[0;34m(\u001b[0m\u001b[0;34m)\u001b[0m\u001b[0;34m)\u001b[0m\u001b[0;34m\u001b[0m\u001b[0;34m\u001b[0m\u001b[0m\n\u001b[0;32m---> 10\u001b[0;31m \u001b[0mhello\u001b[0m\u001b[0;34m(\u001b[0m\u001b[0;34m)\u001b[0m\u001b[0;34m\u001b[0m\u001b[0;34m\u001b[0m\u001b[0m\n\u001b[0m\u001b[1;32m     11\u001b[0m \u001b[0;34m\u001b[0m\u001b[0m\n",
      "\u001b[0;31mNameError\u001b[0m: name 'hello' is not defined"
     ]
    }
   ],
   "source": [
    "def hello(func):\n",
    "    func()\n",
    "    \n",
    "def greet():\n",
    "    print('Still here.')\n",
    "\n",
    "del hello\n",
    "\n",
    "print(greet())\n",
    "hello()\n",
    "\n"
   ]
  },
  {
   "cell_type": "code",
   "execution_count": 13,
   "metadata": {},
   "outputs": [
    {
     "name": "stdout",
     "output_type": "stream",
     "text": [
      "Still here.\n",
      "None\n"
     ]
    },
    {
     "ename": "TypeError",
     "evalue": "hello() missing 1 required positional argument: 'func'",
     "output_type": "error",
     "traceback": [
      "\u001b[0;31m---------------------------------------------------------------------------\u001b[0m",
      "\u001b[0;31mTypeError\u001b[0m                                 Traceback (most recent call last)",
      "\u001b[0;32m<ipython-input-13-9aa07c716938>\u001b[0m in \u001b[0;36m<module>\u001b[0;34m\u001b[0m\n\u001b[1;32m      8\u001b[0m \u001b[0;34m\u001b[0m\u001b[0m\n\u001b[1;32m      9\u001b[0m \u001b[0mprint\u001b[0m\u001b[0;34m(\u001b[0m\u001b[0ma\u001b[0m\u001b[0;34m)\u001b[0m\u001b[0;34m\u001b[0m\u001b[0;34m\u001b[0m\u001b[0m\n\u001b[0;32m---> 10\u001b[0;31m \u001b[0mhello\u001b[0m\u001b[0;34m(\u001b[0m\u001b[0;34m)\u001b[0m\u001b[0;34m\u001b[0m\u001b[0;34m\u001b[0m\u001b[0m\n\u001b[0m",
      "\u001b[0;31mTypeError\u001b[0m: hello() missing 1 required positional argument: 'func'"
     ]
    }
   ],
   "source": [
    "def hello(func):\n",
    "    func()\n",
    "    \n",
    "def greet():\n",
    "    print('Still here.')\n",
    "\n",
    "a = hello(greet)\n",
    "\n",
    "print(a)\n",
    "hello()"
   ]
  },
  {
   "cell_type": "markdown",
   "metadata": {},
   "source": [
    "**Decorators are only possible because of the features above**\n",
    "*The ability for functions to be remembered by Python. Python is smart enough to remember what function it is being pointed to*\n",
    "\n",
    "\n",
    "**HIGHER ORDER FUNCTION**\n",
    "\n",
    "*A function is called Higher Order Function if it contains other functions as parameters or returns functions. It is an important concept of functional programming. Python, as a very flexible programming language, supports the usages of higher order functions. There are some build-in higher order functions in Python and we can also define higher order functions by ourselves.*\n",
    "\n",
    " **Properties of higher-order functions:**\n",
    "\n",
    "- A function is an instance of the Object type.\n",
    "-  You can store the function in a variable.\n",
    "- You can pass the function as a parameter to another function.\n",
    "- You can return the function from a function.\n",
    "- You can store them in data structures such as hash tables, lists, …"
   ]
  },
  {
   "cell_type": "code",
   "execution_count": 29,
   "metadata": {},
   "outputs": [
    {
     "name": "stdout",
     "output_type": "stream",
     "text": [
      "15\n"
     ]
    }
   ],
   "source": [
    "def lazy_sum(numbers: list):\n",
    "    def sum():\n",
    "        s = 0\n",
    "        for n in numbers:\n",
    "            s += n\n",
    "        return s\n",
    "\n",
    "    return sum\n",
    "\n",
    "func = lazy_sum([1, 2, 3, 4, 5])\n",
    "\n",
    "print(func()) #The higher order functions in Python give us more flexibility and make our code more readable and elegant. \n",
    "\n"
   ]
  },
  {
   "cell_type": "markdown",
   "metadata": {},
   "source": [
    "**DECORATORS EXAMPLES**"
   ]
  },
  {
   "cell_type": "code",
   "execution_count": 4,
   "metadata": {},
   "outputs": [
    {
     "name": "stdout",
     "output_type": "stream",
     "text": [
      "********\n",
      "Ayo\n",
      "********\n",
      "see ya\n"
     ]
    }
   ],
   "source": [
    "def my_decorator(func):\n",
    "    def wrap_func():\n",
    "        print('********')\n",
    "        func()\n",
    "        print('********')\n",
    "    return wrap_func\n",
    "\n",
    "@my_decorator #arbitrairy name of the function\n",
    "def hello():\n",
    "    print('Ayo')\n",
    "def bye():\n",
    "    print('see ya')\n",
    "    \n",
    "hello()\n",
    "    \n",
    "bye()"
   ]
  },
  {
   "cell_type": "code",
   "execution_count": 14,
   "metadata": {},
   "outputs": [
    {
     "name": "stdout",
     "output_type": "stream",
     "text": [
      "it took 0.04805803298950195 s\n"
     ]
    }
   ],
   "source": [
    "from time import time\n",
    "\n",
    "def performance(fn):\n",
    "    def wrapper(*args, **kawrgs):\n",
    "        t1 = time()\n",
    "        result = fn(*args, **kawrgs)\n",
    "        t2 = time()\n",
    "        print(f'it took {t2-t1} s')\n",
    "        return result\n",
    "    return wrapper\n",
    "\n",
    "@performance\n",
    "def long_time():\n",
    "    for i in range(1000000):\n",
    "        i*5\n",
    "        \n",
    "long_time()\n",
    "\n",
    "#This excercise shows how we can use decorators to log logins, auth, etc."
   ]
  },
  {
   "cell_type": "markdown",
   "metadata": {},
   "source": [
    "# Excercise: @authenticated"
   ]
  },
  {
   "cell_type": "code",
   "execution_count": 34,
   "metadata": {},
   "outputs": [
    {
     "name": "stdout",
     "output_type": "stream",
     "text": [
      "{'name': 'Sorna', 'valid': True}\n",
      "message has been sent\n"
     ]
    }
   ],
   "source": [
    "# Create an @authenticated decorator that only allows the function to run is user1 has 'valid' set to True:\n",
    "user1 = {\n",
    "    'name': 'Sorna',\n",
    "    'valid': True #changing this will either run or not run the message_friends function.\n",
    "}\n",
    "\n",
    "def authenticated(fn):\n",
    "  def wrapper(*args, **kwargs):\n",
    "    if args[0]['valid']:\n",
    "        print(*args)\n",
    "        return fn(*args, **kwargs)\n",
    "  return wrapper\n",
    "\n",
    "@authenticated\n",
    "def message_friends(user):\n",
    "    print('message has been sent')\n",
    "\n",
    "message_friends(user1)"
   ]
  },
  {
   "cell_type": "markdown",
   "metadata": {},
   "source": [
    "# Palindrome Excercise"
   ]
  },
  {
   "cell_type": "code",
   "execution_count": 10,
   "metadata": {},
   "outputs": [
    {
     "name": "stdout",
     "output_type": "stream",
     "text": [
      "True\n",
      "False\n",
      "True\n"
     ]
    }
   ],
   "source": [
    "def is_palindrome(input_string):\n",
    "\t# We'll create two strings, to compare them\n",
    "\tnew_string = \"\"\n",
    "\treverse_string = \"\"\n",
    "\tinput_string = input_string.casefold()#ignores upper or lower case\n",
    "\t# Traverse through each letter of the input string\n",
    "\tfor char in input_string:\n",
    "\t\t# Add any non-blank letters to the \n",
    "\t\t# end of one string, and to the front\n",
    "\t\t# of the other string. \n",
    "\t\tif char.replace(\" \",\"\"):\n",
    "\t\t\tnew_string = char + new_string\n",
    "\t\t\treverse_string = char + reverse_string\n",
    "\t# Compare the strings\n",
    "\tif new_string == reverse_string[::-1]:#[::-1] reverses string\n",
    "\t\treturn True\n",
    "\treturn False\n",
    "\n",
    "print(is_palindrome(\"Never Odd or Even\")) # Should be True\n",
    "print(is_palindrome(\"abc\")) # Should be False\n",
    "print(is_palindrome(\"kayak\")) # Should be True"
   ]
  },
  {
   "cell_type": "markdown",
   "metadata": {},
   "source": [
    "# Round() & format() Methods Excercise"
   ]
  },
  {
   "cell_type": "code",
   "execution_count": 26,
   "metadata": {},
   "outputs": [
    {
     "name": "stdout",
     "output_type": "stream",
     "text": [
      "12 miles equals 19.2 km.\n",
      "5.5 miles equals 8.8 km.\n",
      "11 miles equals 17.6 km.\n"
     ]
    }
   ],
   "source": [
    "def convert_distance(miles):\n",
    "\tkm = round((miles * 1.6),1)\n",
    "\tresult = \"{miles} miles equals {km} km.\".format(miles=miles,km=km)\n",
    "\treturn result\n",
    "\n",
    "print(convert_distance(12)) # Should be: 12 miles equals 19.2 km\n",
    "print(convert_distance(5.5)) # Should be: 5.5 miles equals 8.8 km\n",
    "print(convert_distance(11)) # Should be: 11 miles equals 17.6 km"
   ]
  },
  {
   "cell_type": "markdown",
   "metadata": {},
   "source": [
    "# format() str excercise"
   ]
  },
  {
   "cell_type": "code",
   "execution_count": 13,
   "metadata": {},
   "outputs": [
    {
     "name": "stdout",
     "output_type": "stream",
     "text": [
      "Jane S.\n",
      "Francesco R.\n",
      "Jean-Luc G.\n"
     ]
    }
   ],
   "source": [
    "def nametag(first_name, last_name):\n",
    "\n",
    "\treturn \"{first_name} {last_name}.\".format(first_name=first_name,last_name=last_name[0])\n",
    "\n",
    "print(nametag(\"Jane\", \"Smith\")) \n",
    "# Should display \"Jane S.\" \n",
    "print(nametag(\"Francesco\", \"Rinaldi\")) \n",
    "# Should display \"Francesco R.\" \n",
    "print(nametag(\"Jean-Luc\", \"Grand-Pierre\")) \n",
    "# Should display \"Jean-Luc G.\" "
   ]
  },
  {
   "cell_type": "markdown",
   "metadata": {},
   "source": [
    "# endswith() Excercise\n"
   ]
  },
  {
   "cell_type": "code",
   "execution_count": 25,
   "metadata": {},
   "outputs": [
    {
     "name": "stdout",
     "output_type": "stream",
     "text": [
      "It's raining cats and dogs\n",
      "She sells seashells by the seashore\n",
      "The weather is nice in May\n",
      "The weather is nice in April\n"
     ]
    }
   ],
   "source": [
    "def replace_ending(sentence, old, new):\n",
    "    # Check if the old string is at the end of the sentence\n",
    "    if sentence.endswith(old):# endswith() returns str as a boolean True or False\n",
    "        # Using i as the slicing index, combine the part\n",
    "        # of the sentence up to the matched string at the \n",
    "        # end with the new string\n",
    "        i = len(old)#returns length of the string as an integer\n",
    "        new_sentence = sentence[:-i]+new # str[:-i] means beginning of str until the end of the str\n",
    "        return new_sentence\n",
    "    # Return the original sentence if there is no match\n",
    "    return sentence\n",
    "\n",
    "\t\n",
    "print(replace_ending(\"It's raining cats and cats\", \"cats\", \"dogs\")) \n",
    "# Should display \"It's raining cats and dogs\"\n",
    "print(replace_ending(\"She sells seashells by the seashore\", \"seashells\", \"donuts\")) \n",
    "# Should display \"She sells seashells by the seashore\"\n",
    "print(replace_ending(\"The weather is nice in May\", \"may\", \"april\")) \n",
    "# Should display \"The weather is nice in May\"\n",
    "print(replace_ending(\"The weather is nice in May\", \"May\", \"April\")) \n",
    "# Should display \"The weather is nice in April\"\n"
   ]
  },
  {
   "cell_type": "markdown",
   "metadata": {},
   "source": [
    "# Fibonacci Excercise"
   ]
  },
  {
   "cell_type": "code",
   "execution_count": 1,
   "metadata": {},
   "outputs": [
    {
     "name": "stdout",
     "output_type": "stream",
     "text": [
      "0\n",
      "1\n",
      "1\n",
      "2\n",
      "3\n",
      "5\n",
      "8\n",
      "13\n",
      "21\n",
      "34\n",
      "55\n",
      "89\n",
      "144\n",
      "233\n",
      "377\n",
      "610\n",
      "987\n",
      "1597\n",
      "2584\n",
      "4181\n",
      "6765\n"
     ]
    }
   ],
   "source": [
    "def fib(number):\n",
    "    a = 0\n",
    "    b = 1\n",
    "    for i in range(number):\n",
    "        yield a \n",
    "        temp = a\n",
    "        a = b\n",
    "        b = temp + b\n",
    "for x in fib(21):\n",
    "    print(x)"
   ]
  },
  {
   "cell_type": "markdown",
   "metadata": {},
   "source": [
    "### Yield"
   ]
  },
  {
   "cell_type": "markdown",
   "metadata": {},
   "source": [
    "Yield is a keyword in Python that is used to return from a function without destroying the states of its local variable and when the function is called, the execution starts from the last yield statement. Any function that contains a yield keyword is termed as generator. Hence, yield is what makes a generator\n"
   ]
  }
 ],
 "metadata": {
  "kernelspec": {
   "display_name": "Python 3",
   "language": "python",
   "name": "python3"
  },
  "language_info": {
   "codemirror_mode": {
    "name": "ipython",
    "version": 3
   },
   "file_extension": ".py",
   "mimetype": "text/x-python",
   "name": "python",
   "nbconvert_exporter": "python",
   "pygments_lexer": "ipython3",
   "version": "3.8.5"
  }
 },
 "nbformat": 4,
 "nbformat_minor": 4
}